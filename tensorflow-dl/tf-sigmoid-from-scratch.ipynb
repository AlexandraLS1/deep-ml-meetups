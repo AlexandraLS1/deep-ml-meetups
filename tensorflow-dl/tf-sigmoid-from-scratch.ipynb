{
 "cells": [
  {
   "cell_type": "markdown",
   "metadata": {},
   "source": [
    "# TensorFlow based Logistic regression from scratch\n",
    "\n",
    "Tensorflow is an open source machine-learning (ML) library created by Google. It has predominantly become prevalent because of the extensive Deep Learning algorithms it supports. Aside from that, it supports both the GPU and CPU, it's highly scalable and can run on mobile devices with small memory footprint. "
   ]
  },
  {
   "cell_type": "markdown",
   "metadata": {},
   "source": [
    "## Introduction\n",
    "\n",
    "In this Jupyter notebook I provide an in-depth discussion of the abstract computational principles underlying the TensorFlow software library. I do so, by implementing Logistic Rgeression **without using any of the available TF based Logistic regression methoods**. \n",
    "\n",
    "Location of this notebook:\n",
    "https://github.com/QuantScientist/deep-ml-meetups/tree/master/tensorflow-dl\n"
   ]
  },
  {
   "cell_type": "markdown",
   "metadata": {},
   "source": [
    "# Objectives\n",
    "\n",
    "In this tutorial, you will discover how to implement logistic regression from scratch with using Python and TensorFlow.\n",
    "\n",
    "After completing this tutorial, you will know:\n",
    "\n",
    "* How to write a simple program in TensorFlow\n"
   ]
  },
  {
   "cell_type": "code",
   "execution_count": 7,
   "metadata": {
    "collapsed": false
   },
   "outputs": [
    {
     "name": "stdout",
     "output_type": "stream",
     "text": [
      "Requirement already up-to-date: pip in /usr/local/lib/python2.7/dist-packages\n",
      "Collecting bokeh\n",
      "/usr/local/lib/python2.7/dist-packages/pip/_vendor/requests/packages/urllib3/util/ssl_.py:318: SNIMissingWarning: An HTTPS request has been made, but the SNI (Subject Name Indication) extension to TLS is not available on this platform. This may cause the server to present an incorrect TLS certificate, which can cause validation failures. You can upgrade to a newer version of Python to solve this. For more information, see https://urllib3.readthedocs.io/en/latest/security.html#snimissingwarning.\n",
      "  SNIMissingWarning\n",
      "/usr/local/lib/python2.7/dist-packages/pip/_vendor/requests/packages/urllib3/util/ssl_.py:122: InsecurePlatformWarning: A true SSLContext object is not available. This prevents urllib3 from configuring SSL appropriately and may cause certain SSL connections to fail. You can upgrade to a newer version of Python to solve this. For more information, see https://urllib3.readthedocs.io/en/latest/security.html#insecureplatformwarning.\n",
      "  InsecurePlatformWarning\n",
      "  Downloading bokeh-0.12.4.tar.gz (5.6MB)\n",
      "\u001b[K    100% |################################| 5.6MB 26kB/s \n",
      "\u001b[?25hRequirement already up-to-date: six>=1.5.2 in /usr/local/lib/python2.7/dist-packages (from bokeh)\n",
      "Collecting requests>=1.2.3 (from bokeh)\n",
      "  Downloading requests-2.13.0-py2.py3-none-any.whl (584kB)\n",
      "\u001b[K    100% |################################| 593kB 364kB/s \n",
      "\u001b[?25hCollecting PyYAML>=3.10 (from bokeh)\n",
      "  Downloading PyYAML-3.12.tar.gz (253kB)\n",
      "\u001b[K    100% |################################| 256kB 283kB/s \n",
      "\u001b[?25hCollecting python-dateutil>=2.1 (from bokeh)\n",
      "  Downloading python_dateutil-2.6.0-py2.py3-none-any.whl (194kB)\n",
      "\u001b[K    100% |################################| 194kB 252kB/s \n",
      "\u001b[?25hCollecting Jinja2>=2.7 (from bokeh)\n",
      "  Downloading Jinja2-2.9.5-py2.py3-none-any.whl (340kB)\n",
      "\u001b[K    100% |################################| 348kB 322kB/s \n",
      "\u001b[?25hRequirement already up-to-date: numpy>=1.7.1 in /usr/local/lib/python2.7/dist-packages (from bokeh)\n",
      "Collecting tornado>=4.3 (from bokeh)\n",
      "  Downloading tornado-4.4.2.tar.gz (460kB)\n",
      "\u001b[K    100% |################################| 460kB 281kB/s \n",
      "\u001b[?25hCollecting futures>=3.0.3 (from bokeh)\n",
      "  Downloading futures-3.0.5-py2-none-any.whl\n",
      "Requirement already up-to-date: MarkupSafe>=0.23 in /usr/local/lib/python2.7/dist-packages (from Jinja2>=2.7->bokeh)\n",
      "Requirement already up-to-date: backports.ssl_match_hostname in /usr/local/lib/python2.7/dist-packages (from tornado>=4.3->bokeh)\n",
      "Requirement already up-to-date: singledispatch in /usr/local/lib/python2.7/dist-packages (from tornado>=4.3->bokeh)\n",
      "Collecting certifi (from tornado>=4.3->bokeh)\n",
      "  Downloading certifi-2017.1.23-py2.py3-none-any.whl (382kB)\n",
      "\u001b[K    100% |################################| 389kB 222kB/s \n",
      "\u001b[?25hCollecting backports_abc>=0.4 (from tornado>=4.3->bokeh)\n",
      "  Downloading backports_abc-0.5-py2.py3-none-any.whl\n",
      "Building wheels for collected packages: bokeh, PyYAML, tornado\n",
      "  Running setup.py bdist_wheel for bokeh ... \u001b[?25l-\b \b\\\b \b|\b \b/\b \b-\b \b\\\b \b|\b \b/\b \b-\b \b\\\b \b|\b \b/\b \b-\b \b\\\b \b|\b \b/\b \b-\b \b\\\b \bdone\n",
      "\u001b[?25h  Stored in directory: /root/.cache/pip/wheels/da/40/52/8daa5b5ea85b77ca594365465b48dc6479af488de4ba2c8eb9\n",
      "  Running setup.py bdist_wheel for PyYAML ... \u001b[?25l-\b \b\\\b \bdone\n",
      "\u001b[?25h  Stored in directory: /root/.cache/pip/wheels/2c/f7/79/13f3a12cd723892437c0cfbde1230ab4d82947ff7b3839a4fc\n",
      "  Running setup.py bdist_wheel for tornado ... \u001b[?25l-\b \b\\\b \b|\b \bdone\n",
      "\u001b[?25h  Stored in directory: /root/.cache/pip/wheels/b3/db/47/46e05d1ee3ecfba252fcab42f0a156dab0df0cddf99fa0827c\n",
      "Successfully built bokeh PyYAML tornado\n",
      "Installing collected packages: requests, PyYAML, python-dateutil, Jinja2, certifi, backports-abc, tornado, futures, bokeh\n",
      "  Found existing installation: PyYAML 3.11\n",
      "    Uninstalling PyYAML-3.11:\n",
      "      Successfully uninstalled PyYAML-3.11\n",
      "  Found existing installation: python-dateutil 1.5\n",
      "    Uninstalling python-dateutil-1.5:\n",
      "      Successfully uninstalled python-dateutil-1.5\n",
      "  Found existing installation: Jinja2 2.8\n",
      "    Uninstalling Jinja2-2.8:\n",
      "      Successfully uninstalled Jinja2-2.8\n",
      "  Found existing installation: certifi 2016.2.28\n",
      "    Uninstalling certifi-2016.2.28:\n",
      "      Successfully uninstalled certifi-2016.2.28\n",
      "  Found existing installation: backports-abc 0.4\n",
      "    Uninstalling backports-abc-0.4:\n",
      "      Successfully uninstalled backports-abc-0.4\n",
      "  Found existing installation: tornado 4.3\n",
      "    Uninstalling tornado-4.3:\n",
      "      Successfully uninstalled tornado-4.3\n",
      "Successfully installed Jinja2-2.9.5 PyYAML-3.12 backports-abc-0.5 bokeh-0.12.4 certifi-2017.1.23 futures-3.0.5 python-dateutil-2.6.0 requests-2.13.0 tornado-4.4.2\n",
      "Collecting xgboost\n",
      "/usr/local/lib/python2.7/dist-packages/pip/_vendor/requests/packages/urllib3/util/ssl_.py:318: SNIMissingWarning: An HTTPS request has been made, but the SNI (Subject Name Indication) extension to TLS is not available on this platform. This may cause the server to present an incorrect TLS certificate, which can cause validation failures. You can upgrade to a newer version of Python to solve this. For more information, see https://urllib3.readthedocs.io/en/latest/security.html#snimissingwarning.\n",
      "  SNIMissingWarning\n",
      "/usr/local/lib/python2.7/dist-packages/pip/_vendor/requests/packages/urllib3/util/ssl_.py:122: InsecurePlatformWarning: A true SSLContext object is not available. This prevents urllib3 from configuring SSL appropriately and may cause certain SSL connections to fail. You can upgrade to a newer version of Python to solve this. For more information, see https://urllib3.readthedocs.io/en/latest/security.html#insecureplatformwarning.\n",
      "  InsecurePlatformWarning\n",
      "  Downloading xgboost-0.6a2.tar.gz (1.2MB)\n",
      "\u001b[K    100% |################################| 1.2MB 825kB/s \n",
      "\u001b[?25hRequirement already up-to-date: numpy in /usr/local/lib/python2.7/dist-packages (from xgboost)\n",
      "Collecting scipy (from xgboost)\n",
      "  Downloading scipy-0.18.1-cp27-cp27mu-manylinux1_x86_64.whl (40.3MB)\n",
      "\u001b[K    100% |################################| 40.3MB 30kB/s \n",
      "\u001b[?25hCollecting scikit-learn (from xgboost)\n",
      "  Downloading scikit_learn-0.18.1-cp27-cp27mu-manylinux1_x86_64.whl (11.6MB)\n",
      "\u001b[K    100% |################################| 11.7MB 92kB/s \n",
      "\u001b[?25hBuilding wheels for collected packages: xgboost\n",
      "  Running setup.py bdist_wheel for xgboost ... \u001b[?25l-\b \b\\\b \b|\b \b/\b \b-\b \b\\\b \b|\b \b/\b \b-\b \b\\\b \b|\b \b/\b \b-\b \b\\\b \b|\b \b/\b \b-\b \b\\\b \b|\b \b/\b \b-\b \b\\\b \b|\b \b/\b \b-\b \b\\\b \b|\b \b/\b \b-\b \b\\\b \b|\b \b/\b \bdone\n",
      "\u001b[?25h  Stored in directory: /root/.cache/pip/wheels/5e/c1/d6/522af54e5cc001fad4dd855117f8bf61b11d56443e06672e26\n",
      "Successfully built xgboost\n",
      "Installing collected packages: scipy, scikit-learn, xgboost\n",
      "  Found existing installation: scipy 0.13.3\n",
      "\u001b[31m    DEPRECATION: Uninstalling a distutils installed project (scipy) has been deprecated and will be removed in a future version. This is due to the fact that uninstalling a distutils project will only partially uninstall the project.\u001b[0m\n",
      "    Uninstalling scipy-0.13.3:\n",
      "      Successfully uninstalled scipy-0.13.3\n",
      "  Found existing installation: scikit-learn 0.14.1\n",
      "\u001b[31m    DEPRECATION: Uninstalling a distutils installed project (scikit-learn) has been deprecated and will be removed in a future version. This is due to the fact that uninstalling a distutils project will only partially uninstall the project.\u001b[0m\n",
      "    Uninstalling scikit-learn-0.14.1:\n",
      "      Successfully uninstalled scikit-learn-0.14.1\n",
      "Successfully installed scikit-learn-0.18.1 scipy-0.18.1 xgboost-0.6a2\n",
      "Collecting watermark\n",
      "/usr/local/lib/python2.7/dist-packages/pip/_vendor/requests/packages/urllib3/util/ssl_.py:318: SNIMissingWarning: An HTTPS request has been made, but the SNI (Subject Name Indication) extension to TLS is not available on this platform. This may cause the server to present an incorrect TLS certificate, which can cause validation failures. You can upgrade to a newer version of Python to solve this. For more information, see https://urllib3.readthedocs.io/en/latest/security.html#snimissingwarning.\n",
      "  SNIMissingWarning\n",
      "/usr/local/lib/python2.7/dist-packages/pip/_vendor/requests/packages/urllib3/util/ssl_.py:122: InsecurePlatformWarning: A true SSLContext object is not available. This prevents urllib3 from configuring SSL appropriately and may cause certain SSL connections to fail. You can upgrade to a newer version of Python to solve this. For more information, see https://urllib3.readthedocs.io/en/latest/security.html#insecureplatformwarning.\n",
      "  InsecurePlatformWarning\n",
      "  Downloading watermark-1.3.4.tar.gz\n",
      "Collecting ipython (from watermark)\n",
      "  Downloading ipython-5.3.0-py2-none-any.whl (750kB)\n",
      "\u001b[K    100% |################################| 757kB 733kB/s \n",
      "\u001b[?25hCollecting prompt-toolkit<2.0.0,>=1.0.4 (from ipython->watermark)\n",
      "  Downloading prompt_toolkit-1.0.13-py2-none-any.whl (247kB)\n",
      "\u001b[K    100% |################################| 256kB 2.5MB/s \n",
      "\u001b[?25hCollecting decorator (from ipython->watermark)\n",
      "  Downloading decorator-4.0.11-py2.py3-none-any.whl\n",
      "Requirement already up-to-date: setuptools>=18.5 in /usr/local/lib/python2.7/dist-packages (from ipython->watermark)\n",
      "Collecting pickleshare (from ipython->watermark)\n",
      "  Downloading pickleshare-0.7.4-py2.py3-none-any.whl\n",
      "Collecting pygments (from ipython->watermark)\n",
      "  Downloading Pygments-2.2.0-py2.py3-none-any.whl (841kB)\n",
      "\u001b[K    100% |################################| 849kB 1.6MB/s \n",
      "\u001b[?25hCollecting pexpect; sys_platform != \"win32\" (from ipython->watermark)\n",
      "  Downloading pexpect-4.2.1-py2.py3-none-any.whl (55kB)\n",
      "\u001b[K    100% |################################| 61kB 5.1MB/s \n",
      "\u001b[?25hCollecting pathlib2; python_version == \"2.7\" or python_version == \"3.3\" (from ipython->watermark)\n",
      "  Downloading pathlib2-2.2.1-py2.py3-none-any.whl\n",
      "Requirement already up-to-date: backports.shutil-get-terminal-size; python_version == \"2.7\" in /usr/local/lib/python2.7/dist-packages (from ipython->watermark)\n",
      "Requirement already up-to-date: simplegeneric>0.8 in /usr/lib/python2.7/dist-packages (from ipython->watermark)\n",
      "Collecting traitlets>=4.2 (from ipython->watermark)\n",
      "  Downloading traitlets-4.3.2-py2.py3-none-any.whl (74kB)\n",
      "\u001b[K    100% |################################| 81kB 788kB/s \n",
      "\u001b[?25hRequirement already up-to-date: six>=1.9.0 in /usr/local/lib/python2.7/dist-packages (from prompt-toolkit<2.0.0,>=1.0.4->ipython->watermark)\n",
      "Collecting wcwidth (from prompt-toolkit<2.0.0,>=1.0.4->ipython->watermark)\n",
      "  Downloading wcwidth-0.1.7-py2.py3-none-any.whl\n",
      "Requirement already up-to-date: packaging>=16.8 in /usr/local/lib/python2.7/dist-packages (from setuptools>=18.5->ipython->watermark)\n",
      "Requirement already up-to-date: appdirs>=1.4.0 in /usr/local/lib/python2.7/dist-packages (from setuptools>=18.5->ipython->watermark)\n",
      "Requirement already up-to-date: ptyprocess>=0.5 in /usr/local/lib/python2.7/dist-packages (from pexpect; sys_platform != \"win32\"->ipython->watermark)\n",
      "Collecting scandir; python_version < \"3.5\" (from pathlib2; python_version == \"2.7\" or python_version == \"3.3\"->ipython->watermark)\n",
      "  Downloading scandir-1.5.tar.gz\n",
      "Requirement already up-to-date: enum34; python_version == \"2.7\" in /usr/local/lib/python2.7/dist-packages (from traitlets>=4.2->ipython->watermark)\n",
      "Requirement already up-to-date: ipython-genutils in /usr/local/lib/python2.7/dist-packages (from traitlets>=4.2->ipython->watermark)\n",
      "Requirement already up-to-date: pyparsing in /usr/local/lib/python2.7/dist-packages (from packaging>=16.8->setuptools>=18.5->ipython->watermark)\n",
      "Building wheels for collected packages: watermark, scandir\n",
      "  Running setup.py bdist_wheel for watermark ... \u001b[?25l-\b \bdone\n",
      "\u001b[?25h  Stored in directory: /root/.cache/pip/wheels/a0/78/db/bcea4e5e6b49962fdcfc07bcd8fcf27aef7a1385b8db623109\n",
      "  Running setup.py bdist_wheel for scandir ... \u001b[?25l-\b \b\\\b \bdone\n",
      "\u001b[?25h  Stored in directory: /root/.cache/pip/wheels/47/af/a2/eb591a17e9709a17d8b53696f6ad89914a05eaf9c091f36e18\n",
      "Successfully built watermark scandir\n",
      "Installing collected packages: wcwidth, prompt-toolkit, decorator, scandir, pathlib2, pickleshare, pygments, pexpect, traitlets, ipython, watermark\n",
      "  Found existing installation: decorator 4.0.10\n",
      "    Uninstalling decorator-4.0.10:\n",
      "      Successfully uninstalled decorator-4.0.10\n",
      "  Found existing installation: pathlib2 2.1.0\n",
      "    Uninstalling pathlib2-2.1.0:\n",
      "      Successfully uninstalled pathlib2-2.1.0\n",
      "  Found existing installation: pickleshare 0.7.2\n",
      "    Uninstalling pickleshare-0.7.2:\n",
      "      Successfully uninstalled pickleshare-0.7.2\n",
      "  Found existing installation: Pygments 2.1.3\n",
      "    Uninstalling Pygments-2.1.3:\n",
      "      Successfully uninstalled Pygments-2.1.3\n",
      "  Found existing installation: pexpect 4.1.0\n",
      "    Uninstalling pexpect-4.1.0:\n",
      "      Successfully uninstalled pexpect-4.1.0\n",
      "  Found existing installation: traitlets 4.2.1\n",
      "    Uninstalling traitlets-4.2.1:\n",
      "      Successfully uninstalled traitlets-4.2.1\n",
      "  Found existing installation: ipython 4.2.0\n",
      "    Uninstalling ipython-4.2.0:\n",
      "      Successfully uninstalled ipython-4.2.0\n",
      "Successfully installed decorator-4.0.11 ipython-5.3.0 pathlib2-2.2.1 pexpect-4.2.1 pickleshare-0.7.4 prompt-toolkit-1.0.13 pygments-2.2.0 scandir-1.5 traitlets-4.3.2 watermark-1.3.4 wcwidth-0.1.7\n",
      "/usr/local/lib/python2.7/dist-packages/pip/_vendor/requests/packages/urllib3/util/ssl_.py:318: SNIMissingWarning: An HTTPS request has been made, but the SNI (Subject Name Indication) extension to TLS is not available on this platform. This may cause the server to present an incorrect TLS certificate, which can cause validation failures. You can upgrade to a newer version of Python to solve this. For more information, see https://urllib3.readthedocs.io/en/latest/security.html#snimissingwarning.\n",
      "  SNIMissingWarning\n",
      "/usr/local/lib/python2.7/dist-packages/pip/_vendor/requests/packages/urllib3/util/ssl_.py:122: InsecurePlatformWarning: A true SSLContext object is not available. This prevents urllib3 from configuring SSL appropriately and may cause certain SSL connections to fail. You can upgrade to a newer version of Python to solve this. For more information, see https://urllib3.readthedocs.io/en/latest/security.html#insecureplatformwarning.\n",
      "  InsecurePlatformWarning\n",
      "Requirement already up-to-date: edward in /usr/local/lib/python2.7/dist-packages\n",
      "Requirement already up-to-date: tensorflow in /usr/local/lib/python2.7/dist-packages\n",
      "Requirement already up-to-date: numpy>=1.7 in /usr/local/lib/python2.7/dist-packages (from edward)\n",
      "Requirement already up-to-date: six>=1.10.0 in /usr/local/lib/python2.7/dist-packages (from edward)\n",
      "Requirement already up-to-date: wheel in /usr/local/lib/python2.7/dist-packages (from tensorflow)\n",
      "Requirement already up-to-date: mock>=2.0.0 in /usr/local/lib/python2.7/dist-packages (from tensorflow)\n",
      "Requirement already up-to-date: protobuf>=3.1.0 in /usr/local/lib/python2.7/dist-packages (from tensorflow)\n",
      "Requirement already up-to-date: funcsigs>=1; python_version < \"3.3\" in /usr/local/lib/python2.7/dist-packages (from mock>=2.0.0->tensorflow)\n",
      "Requirement already up-to-date: pbr>=0.11 in /usr/local/lib/python2.7/dist-packages (from mock>=2.0.0->tensorflow)\n",
      "Requirement already up-to-date: setuptools in /usr/local/lib/python2.7/dist-packages (from protobuf>=3.1.0->tensorflow)\n",
      "Requirement already up-to-date: packaging>=16.8 in /usr/local/lib/python2.7/dist-packages (from setuptools->protobuf>=3.1.0->tensorflow)\n",
      "Requirement already up-to-date: appdirs>=1.4.0 in /usr/local/lib/python2.7/dist-packages (from setuptools->protobuf>=3.1.0->tensorflow)\n",
      "Requirement already up-to-date: pyparsing in /usr/local/lib/python2.7/dist-packages (from packaging>=16.8->setuptools->protobuf>=3.1.0->tensorflow)\n",
      "Requirement already up-to-date: seaborn in /usr/local/lib/python2.7/dist-packages\n"
     ]
    }
   ],
   "source": [
    "# docker run -it -p 8888:8888 -p 6006:6006 -v //Volumes/1tb-ext/2019/db/stan/Dropbox/dev2/books/2019/BML/:/root/sharedfolder floydhub/dl-docker:cpu bash\n",
    "!pip install --upgrade pip\n",
    "!pip install --upgrade bokeh\n",
    "!pip install --upgrade xgboost\n",
    "!pip install --upgrade watermark\n",
    "!pip install --upgrade edward tensorflow\n",
    "!pip install --upgrade seaborn"
   ]
  },
  {
   "cell_type": "markdown",
   "metadata": {},
   "source": [
    "# Import Libs"
   ]
  },
  {
   "cell_type": "code",
   "execution_count": 8,
   "metadata": {
    "collapsed": false
   },
   "outputs": [
    {
     "name": "stdout",
     "output_type": "stream",
     "text": [
      "Path at terminal when executing this file\n",
      "/root/sharedfolder/deep-ml-git/deep-ml-meetups/tensorflow-dl\n",
      "\n"
     ]
    }
   ],
   "source": [
    "#%reset -f\n",
    "import numpy\n",
    "import pandas\n",
    "import os\n",
    "import sys\n",
    "import numpy as np\n",
    "import pandas as pd\n",
    "import uuid\n",
    "import pandas as pd\n",
    "import itertools\n",
    "import warnings\n",
    "# Import Bokeh modules for interactive plotting\n",
    "# from bokeh import *\n",
    "import seaborn as sns\n",
    "import pandas as pd\n",
    "import random\n",
    "import matplotlib.pyplot as plt\n",
    "import seaborn as sns\n",
    "import os,sys,inspect\n",
    "\n",
    "import numpy as np\n",
    "import pandas as pd\n",
    "import matplotlib.pyplot as plt\n",
    "import pandas\n",
    "from scipy.stats import norm, invgamma\n",
    "from sklearn import linear_model\n",
    "import numpy as np\n",
    "import scipy.sparse\n",
    "import pickle\n",
    "# import xgboost as xgb\n",
    "import numpy\n",
    "import os\n",
    "\n",
    "import numpy\n",
    "import matplotlib.pyplot as plt\n",
    "rng = numpy.random\n",
    "\n",
    "print(\"Path at terminal when executing this file\")\n",
    "print(os.getcwd() + \"\\n\")"
   ]
  },
  {
   "cell_type": "markdown",
   "metadata": {},
   "source": [
    "# Versions"
   ]
  },
  {
   "cell_type": "code",
   "execution_count": 9,
   "metadata": {
    "collapsed": false
   },
   "outputs": [
    {
     "name": "stdout",
     "output_type": "stream",
     "text": [
      "2017-02-24 \n",
      "\n",
      "CPython 2.7.6\n",
      "IPython 4.2.0\n",
      "\n",
      "pandas 0.13.1\n",
      "scipy 0.13.3\n",
      "matplotlib 1.3.1\n",
      "tensorflow 1.0.0\n",
      "\n",
      "compiler   : GCC 4.8.2\n",
      "system     : Linux\n",
      "release    : 4.9.8-moby\n",
      "machine    : x86_64\n",
      "processor  : x86_64\n",
      "CPU cores  : 4\n",
      "interpreter: 64bit\n"
     ]
    }
   ],
   "source": [
    "%load_ext watermark\n",
    "%watermark -d -v -m -p pandas,scipy,matplotlib,tensorflow"
   ]
  },
  {
   "cell_type": "markdown",
   "metadata": {},
   "source": [
    "# Setup display"
   ]
  },
  {
   "cell_type": "code",
   "execution_count": 10,
   "metadata": {
    "collapsed": false
   },
   "outputs": [
    {
     "name": "stderr",
     "output_type": "stream",
     "text": [
      "/usr/lib/python2.7/dist-packages/pandas/core/config.py:570: DeprecationWarning: line_width has been deprecated, use display.width instead (currently both are\n",
      "identical)\n",
      "\n",
      "  warnings.warn(d.msg, DeprecationWarning)\n",
      "/usr/lib/python2.7/dist-packages/pandas/core/config.py:570: DeprecationWarning: height has been deprecated.\n",
      "\n",
      "  warnings.warn(d.msg, DeprecationWarning)\n",
      "/usr/local/lib/python2.7/dist-packages/ipykernel/pylab/config.py:66: DeprecationWarning: metadata {'config': True} was set from the constructor.  Metadata should be set using the .tag() method, e.g., Int().tag(key1='value1', key2='value2')\n",
      "  inline backend.\"\"\"\n",
      "/usr/local/lib/python2.7/dist-packages/ipykernel/pylab/config.py:71: DeprecationWarning: metadata {'config': True} was set from the constructor.  Metadata should be set using the .tag() method, e.g., Int().tag(key1='value1', key2='value2')\n",
      "  'retina', 'jpeg', 'svg', 'pdf'.\"\"\")\n",
      "/usr/local/lib/python2.7/dist-packages/ipykernel/pylab/config.py:85: DeprecationWarning: metadata {'config': True} was set from the constructor.  Metadata should be set using the .tag() method, e.g., Int().tag(key1='value1', key2='value2')\n",
      "  use `figure_formats` instead)\"\"\")\n",
      "/usr/local/lib/python2.7/dist-packages/ipykernel/pylab/config.py:95: DeprecationWarning: metadata {'config': True} was set from the constructor.  Metadata should be set using the .tag() method, e.g., Int().tag(key1='value1', key2='value2')\n",
      "  \"\"\"\n",
      "/usr/local/lib/python2.7/dist-packages/ipykernel/pylab/config.py:114: DeprecationWarning: metadata {'config': True} was set from the constructor.  Metadata should be set using the .tag() method, e.g., Int().tag(key1='value1', key2='value2')\n",
      "  \"\"\")\n",
      "/usr/local/lib/python2.7/dist-packages/ipykernel/pylab/config.py:44: DeprecationWarning: InlineBackend._config_changed is deprecated: use @observe and @unobserve instead.\n",
      "  def _config_changed(self, name, old, new):\n",
      "/usr/local/lib/python2.7/dist-packages/traitlets/traitlets.py:770: DeprecationWarning: A parent of InlineBackend._config_changed has adopted the new @observe(change) API\n",
      "  Other keys may be passed depending on the value of 'type'. In the case\n",
      "/usr/local/lib/python2.7/dist-packages/ipykernel/pylab/config.py:78: DeprecationWarning: InlineBackend._figure_formats_changed is deprecated: use @observe and @unobserve instead.\n",
      "  def _figure_formats_changed(self, name, old, new):\n",
      "/usr/local/lib/python2.7/dist-packages/IPython/core/formatters.py:98: DeprecationWarning: DisplayFormatter._formatters_default is deprecated: use @default decorator instead.\n",
      "  def _formatters_default(self):\n",
      "/usr/local/lib/python2.7/dist-packages/IPython/core/formatters.py:677: DeprecationWarning: PlainTextFormatter._deferred_printers_default is deprecated: use @default decorator instead.\n",
      "  def _deferred_printers_default(self):\n",
      "/usr/local/lib/python2.7/dist-packages/IPython/core/formatters.py:669: DeprecationWarning: PlainTextFormatter._singleton_printers_default is deprecated: use @default decorator instead.\n",
      "  def _singleton_printers_default(self):\n",
      "/usr/local/lib/python2.7/dist-packages/IPython/core/formatters.py:672: DeprecationWarning: PlainTextFormatter._type_printers_default is deprecated: use @default decorator instead.\n",
      "  def _type_printers_default(self):\n",
      "/usr/local/lib/python2.7/dist-packages/IPython/core/formatters.py:672: DeprecationWarning: PlainTextFormatter._type_printers_default is deprecated: use @default decorator instead.\n",
      "  def _type_printers_default(self):\n",
      "/usr/local/lib/python2.7/dist-packages/IPython/core/formatters.py:677: DeprecationWarning: PlainTextFormatter._deferred_printers_default is deprecated: use @default decorator instead.\n",
      "  def _deferred_printers_default(self):\n"
     ]
    }
   ],
   "source": [
    "import pandas as pd\n",
    "import seaborn as sns\n",
    "import warnings \n",
    "pd.set_option('display.max_columns', 30)\n",
    "pd.set_option('display.width', None)\n",
    "pd.set_option('display.line_width', 200)\n",
    "pd.set_option('display.height', 1000)\n",
    "pd.set_option('display.max_rows', 500)\n",
    "pd.set_option('display.max_columns', 500)\n",
    "pd.set_option('display.width', 1000)\n",
    "\n",
    "# This enables high res graphics inline (only use with static plots (non-Bokeh))\n",
    "# SVG is preferred, but there is a bug in Jupyter with vertical lines\n",
    "%config InlineBackend.figure_formats = {'png', 'retina'}\n",
    "\n",
    "# JB's favorite Seaborn settings for notebooks\n",
    "rc = {'lines.linewidth': 2, \n",
    "      'axes.labelsize': 18, \n",
    "      'axes.titlesize': 18, \n",
    "      'axes.facecolor': 'DFDFE5'}\n",
    "sns.set_context('notebook', rc=rc)\n",
    "sns.set_style('darkgrid', rc=rc)\n",
    "\n",
    "\n",
    "\n",
    "# Display graphics in this notebook\n",
    "# from bokeh import *\n",
    "# bokeh.io.output_notebook()\n",
    "\n",
    "# Suppress future warnings\n",
    "warnings.simplefilter(action='ignore', category=FutureWarning)\n",
    "\n",
    "%matplotlib inline"
   ]
  },
  {
   "cell_type": "markdown",
   "metadata": {},
   "source": [
    "# Test that TF is working"
   ]
  },
  {
   "cell_type": "code",
   "execution_count": 11,
   "metadata": {
    "collapsed": false
   },
   "outputs": [
    {
     "name": "stdout",
     "output_type": "stream",
     "text": [
      "Hello, TensorFlow!\n",
      "input/x-input\n",
      "input/y-input\n",
      "Const\n"
     ]
    }
   ],
   "source": [
    "# %reset -f\n",
    "import tensorflow as tf\n",
    "tf.reset_default_graph()\n",
    "# input images\n",
    "with tf.name_scope('input'):\n",
    "    # None -> batch size can be any size, 784 -> flattened mnist image\n",
    "    x = tf.placeholder(tf.float32, shape=[None, 784], name=\"x-input\") \n",
    "    # target 10 output classes\n",
    "    y_ = tf.placeholder(tf.float32, shape=[None, 10], name=\"y-input\")    \n",
    "hello = tf.constant('Hello, TensorFlow!')\n",
    "\n",
    "# Start tf session\n",
    "sess = tf.InteractiveSession()\n",
    "# sess = tf.Session()\n",
    "# Run graph\n",
    "print sess.run(hello)\n",
    "\n",
    "graph = tf.get_default_graph()\n",
    "for op in graph.get_operations(): \n",
    "    print(op.name)"
   ]
  },
  {
   "cell_type": "markdown",
   "metadata": {},
   "source": [
    "# Pure Python "
   ]
  },
  {
   "cell_type": "code",
   "execution_count": 12,
   "metadata": {
    "collapsed": false
   },
   "outputs": [
    {
     "name": "stdout",
     "output_type": "stream",
     "text": [
      "0.240868228634\n"
     ]
    }
   ],
   "source": [
    "import tensorflow as tf\n",
    "from scipy.stats import logistic\n",
    "from scipy.special import expit\n",
    "\n",
    "# Link Function\n",
    "\n",
    "def sigmoid(x):\n",
    "    return logistic.cdf(x) # or expit(x)\n",
    "# Link Function deriviative \n",
    "def ddsigmoid(z):\n",
    "    return sigmoid(z) * (1.0 - sigmoid(z))\n",
    "\n",
    "# print logistic.cdf(0.387)\n",
    "# print expit(0.387)\n",
    "\n",
    "print ddsigmoid(0.387)\n"
   ]
  },
  {
   "cell_type": "markdown",
   "metadata": {},
   "source": [
    "# TF"
   ]
  },
  {
   "cell_type": "code",
   "execution_count": 18,
   "metadata": {
    "collapsed": false
   },
   "outputs": [
    {
     "name": "stdout",
     "output_type": "stream",
     "text": [
      "WARNING:tensorflow:From <ipython-input-18-d45213c447a8>:15: initialize_all_variables (from tensorflow.python.ops.variables) is deprecated and will be removed after 2017-03-02.\n",
      "Instructions for updating:\n",
      "Use `tf.global_variables_initializer` instead.\n",
      "None\n",
      "0.595560300929\n",
      "0.59556030225\n",
      "0.240868228634\n"
     ]
    }
   ],
   "source": [
    "sess = tf.InteractiveSession()\n",
    "tf.reset_default_graph()\n",
    "\n",
    "one=tf.constant(1.0,\"float64\") # To avoid: ValueError Tensor conversion requested dtype float32 for \n",
    "                               # Tensor with dtype float64: 'Tensor(\"Exp:0\", dtype=float64)'\n",
    "X = tf.placeholder(\"float64\") # create symbolic variable\n",
    "Y = tf.placeholder(\"float64\") # create symbolic variable\n",
    "\n",
    "x_77=tf.constant(0.387)\n",
    "\n",
    "# derivative of sigmoid= sigmoid(y) * (1.0 - sigmoid(y))\n",
    "\n",
    "sigmoid=(tf.div(one, (one + tf.exp(-X))))\n",
    "dsigmoid=tf.multiply(Y, tf.subtract(one,Y)) \n",
    "  \n",
    "init = tf.initialize_all_variables() # you need to initialize variables (in this case just variable W)\n",
    "sess = tf.Session()\n",
    "print sess.run(init)\n",
    "\n",
    "print sess.run(sigmoid, {X:x_77.eval(session=sess)}) \n",
    "print sess.run(sigmoid, {X:0.387}) \n",
    "print sess.run(dsigmoid,{Y:sigmoid.eval({X:0.387}, session=sess)}) "
   ]
  },
  {
   "cell_type": "code",
   "execution_count": null,
   "metadata": {
    "collapsed": true
   },
   "outputs": [],
   "source": []
  },
  {
   "cell_type": "code",
   "execution_count": null,
   "metadata": {
    "collapsed": true
   },
   "outputs": [],
   "source": []
  },
  {
   "cell_type": "code",
   "execution_count": null,
   "metadata": {
    "collapsed": true
   },
   "outputs": [],
   "source": []
  },
  {
   "cell_type": "code",
   "execution_count": 44,
   "metadata": {
    "collapsed": false
   },
   "outputs": [
    {
     "data": {
      "text/html": [
       "\n",
       "        <iframe seamless style=\"width:1200px;height:620px;border:0\" srcdoc=\"\n",
       "        <script>\n",
       "          function load() {\n",
       "            document.getElementById(&quot;graph0.0470469475638&quot;).pbtxt = 'node {\\n  name: &quot;Placeholder&quot;\\n  op: &quot;Placeholder&quot;\\n  attr {\\n    key: &quot;dtype&quot;\\n    value {\\n      type: DT_FLOAT\\n    }\\n  }\\n  attr {\\n    key: &quot;shape&quot;\\n    value {\\n      shape {\\n      }\\n    }\\n  }\\n}\\nnode {\\n  name: &quot;Placeholder_1&quot;\\n  op: &quot;Placeholder&quot;\\n  attr {\\n    key: &quot;dtype&quot;\\n    value {\\n      type: DT_FLOAT\\n    }\\n  }\\n  attr {\\n    key: &quot;shape&quot;\\n    value {\\n      shape {\\n      }\\n    }\\n  }\\n}\\nnode {\\n  name: &quot;div&quot;\\n  op: &quot;RealDiv&quot;\\n  input: &quot;Placeholder_1&quot;\\n  input: &quot;Placeholder&quot;\\n  attr {\\n    key: &quot;T&quot;\\n    value {\\n      type: DT_FLOAT\\n    }\\n  }\\n}\\nnode {\\n  name: &quot;Mul&quot;\\n  op: &quot;Mul&quot;\\n  input: &quot;Placeholder&quot;\\n  input: &quot;div&quot;\\n  attr {\\n    key: &quot;T&quot;\\n    value {\\n      type: DT_FLOAT\\n    }\\n  }\\n}\\n';\n",
       "          }\n",
       "        </script>\n",
       "        <link rel=&quot;import&quot; href=&quot;https://tensorboard.appspot.com/tf-graph-basic.build.html&quot; onload=load()>\n",
       "        <div style=&quot;height:600px&quot;>\n",
       "          <tf-graph-basic id=&quot;graph0.0470469475638&quot;></tf-graph-basic>\n",
       "        </div>\n",
       "    \"></iframe>\n",
       "    "
      ],
      "text/plain": [
       "<IPython.core.display.HTML object>"
      ]
     },
     "metadata": {},
     "output_type": "display_data"
    },
    {
     "ename": "AttributeError",
     "evalue": "'module' object has no attribute 'SummaryWriter'",
     "output_type": "error",
     "traceback": [
      "\u001b[0;31m\u001b[0m",
      "\u001b[0;31mAttributeError\u001b[0mTraceback (most recent call last)",
      "\u001b[0;32m<ipython-input-44-ff6d3ff35813>\u001b[0m in \u001b[0;36m<module>\u001b[0;34m()\u001b[0m\n\u001b[1;32m      1\u001b[0m \u001b[0mshow_graph\u001b[0m\u001b[0;34m(\u001b[0m\u001b[0mtf\u001b[0m\u001b[0;34m.\u001b[0m\u001b[0mget_default_graph\u001b[0m\u001b[0;34m(\u001b[0m\u001b[0;34m)\u001b[0m\u001b[0;34m.\u001b[0m\u001b[0mas_graph_def\u001b[0m\u001b[0;34m(\u001b[0m\u001b[0;34m)\u001b[0m\u001b[0;34m)\u001b[0m\u001b[0;34m\u001b[0m\u001b[0m\n\u001b[0;32m----> 2\u001b[0;31m \u001b[0mwriter\u001b[0m \u001b[0;34m=\u001b[0m \u001b[0mtf\u001b[0m\u001b[0;34m.\u001b[0m\u001b[0mtrain\u001b[0m\u001b[0;34m.\u001b[0m\u001b[0mSummaryWriter\u001b[0m\u001b[0;34m(\u001b[0m\u001b[0;34m\"tf_persistent.pbtxt\"\u001b[0m\u001b[0;34m,\u001b[0m \u001b[0mgraph\u001b[0m\u001b[0;34m=\u001b[0m\u001b[0mtf\u001b[0m\u001b[0;34m.\u001b[0m\u001b[0mget_default_graph\u001b[0m\u001b[0;34m(\u001b[0m\u001b[0;34m)\u001b[0m\u001b[0;34m)\u001b[0m\u001b[0;34m\u001b[0m\u001b[0m\n\u001b[0m\u001b[1;32m      3\u001b[0m \u001b[0;34m\u001b[0m\u001b[0m\n\u001b[1;32m      4\u001b[0m \u001b[0;31m# gdef = tf.GraphDef()\u001b[0m\u001b[0;34m\u001b[0m\u001b[0;34m\u001b[0m\u001b[0m\n\u001b[1;32m      5\u001b[0m \u001b[0;31m# from google.protobuf import text_format\u001b[0m\u001b[0;34m\u001b[0m\u001b[0;34m\u001b[0m\u001b[0m\n",
      "\u001b[0;31mAttributeError\u001b[0m: 'module' object has no attribute 'SummaryWriter'"
     ]
    }
   ],
   "source": [
    "show_graph(tf.get_default_graph().as_graph_def())\n",
    "writer = tf.train.SummaryWriter(\"tf_persistent.pbtxt\", graph=tf.get_default_graph())\n",
    "\n",
    "# gdef = tf.GraphDef()\n",
    "# from google.protobuf import text_format\n",
    "# text_format.Merge(open(\"tf_persistent.pbtxt\").read(), gdef)\n",
    "# show_graph(gdef)"
   ]
  },
  {
   "cell_type": "markdown",
   "metadata": {
    "collapsed": true
   },
   "source": [
    "# References\n",
    "\n",
    "https://arxiv.org/pdf/1611.08903.pdf\n",
    "\n",
    "https://arxiv.org/pdf/1610.01178.pdf\n",
    "\n",
    "https://gist.github.com/msakai/2b3dbcc64ae1faefea30\n",
    "\n",
    "https://www.kaggle.com/dineshrai/d/uciml/pima-indians-diabetes-database/log-reg-vs-neural-network/code\n",
    "\n",
    "http://killianlevacher.github.io/blog/posts/post-2016-07-22/post.html\n"
   ]
  }
 ],
 "metadata": {
  "kernelspec": {
   "display_name": "Python 2",
   "language": "python",
   "name": "python2"
  },
  "language_info": {
   "codemirror_mode": {
    "name": "ipython",
    "version": 2
   },
   "file_extension": ".py",
   "mimetype": "text/x-python",
   "name": "python",
   "nbconvert_exporter": "python",
   "pygments_lexer": "ipython2",
   "version": "2.7.6"
  }
 },
 "nbformat": 4,
 "nbformat_minor": 2
}
