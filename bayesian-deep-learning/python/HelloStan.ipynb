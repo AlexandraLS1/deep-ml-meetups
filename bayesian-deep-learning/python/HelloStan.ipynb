{
 "cells": [
  {
   "cell_type": "markdown",
   "metadata": {
    "deletable": true,
    "editable": true
   },
   "source": [
    "# PyStan\n",
    "\n",
    "I now illustrate the use of the latest Hamiltonian Monte Carlo (HMC) algorithm, the No-U Turn Sampler (NUTS) of Hoffman and Gelman (2011), as implemented in the package Stan, see mc-stan.org for detailed information. \n",
    "\n",
    "Stan is written in C++ and can be run from the command line, R or Python. Here we illustrate running it on the  data using the Python-interface PyStan.\n",
    "\n",
    "PyStan is a python interface to STAN, a C++ library for building Bayesian models and sampling them with Markov Chain Monte Carlo (MCMC). "
   ]
  },
  {
   "cell_type": "markdown",
   "metadata": {
    "deletable": true,
    "editable": true
   },
   "source": [
    "### Install PyStan with\n",
    "\n",
    "pip install pystan"
   ]
  },
  {
   "cell_type": "markdown",
   "metadata": {
    "deletable": true,
    "editable": true
   },
   "source": [
    "# Imports and Interactive magics"
   ]
  },
  {
   "cell_type": "code",
   "execution_count": 1,
   "metadata": {
    "collapsed": false,
    "deletable": true,
    "editable": true
   },
   "outputs": [],
   "source": [
    "%reset -f\n",
    "\n",
    "%matplotlib inline\n",
    "%qtconsole --colors=linux\n",
    "\n",
    "#!pip install pyparsing pydot\n",
    "import sys\n",
    "import numpy as np\n",
    "import pandas as pd\n",
    "import matplotlib.pyplot as plt\n",
    "import seaborn as sns\n",
    "from scipy import optimize\n",
    "import patsy as pt\n",
    "import statsmodels.api as sm\n",
    "\n",
    "import pymc3 as pm\n",
    "import theano as thno\n",
    "import theano.tensor as T \n",
    "import pystan\n",
    "\n",
    "# configure some basic options\n",
    "sns.set(style=\"darkgrid\", palette=\"muted\")\n",
    "pd.set_option('display.notebook_repr_html', True)\n",
    "plt.rcParams['figure.figsize'] = 12, 8\n",
    "np.random.seed(0)"
   ]
  },
  {
   "cell_type": "markdown",
   "metadata": {
    "deletable": true,
    "editable": true
   },
   "source": [
    "# Versions"
   ]
  },
  {
   "cell_type": "code",
   "execution_count": 2,
   "metadata": {
    "collapsed": false,
    "deletable": true,
    "editable": true
   },
   "outputs": [
    {
     "name": "stdout",
     "output_type": "stream",
     "text": [
      "Python: 2.7.6 (default, Oct 26 2016, 20:30:19) \n",
      "[GCC 4.8.4]\n",
      "pystan: 2.14.0.0\n",
      "theano: 0.8.2\n",
      "PyMC3: 3.0\n",
      "Recursion limit 10000\n",
      "CPU: 4\n",
      "CPU: 4\n",
      "/usr/bin/python\n",
      "Python 2.7.6\n",
      "2017-03-04 \n",
      "\n",
      "CPython 2.7.6\n",
      "IPython 5.3.0\n",
      "\n",
      "pandas 0.19.2\n",
      "scipy 0.13.3\n",
      "matplotlib 2.0.0\n",
      "tensorflow 0.11.0\n",
      "\n",
      "compiler   : GCC 4.8.4\n",
      "system     : Linux\n",
      "release    : 4.9.12-moby\n",
      "machine    : x86_64\n",
      "processor  : x86_64\n",
      "CPU cores  : 4\n",
      "interpreter: 64bit\n"
     ]
    }
   ],
   "source": [
    "print('Python: {}'.format(sys.version))\n",
    "print('pystan: {}'.format(pystan.__version__))\n",
    "print('theano: {}'.format(thno.__version__))\n",
    "print('PyMC3: {}'.format(pm.__version__))\n",
    "print('Recursion limit {}'.format(sys.getrecursionlimit()))\n",
    "\n",
    "import psutil\n",
    "import multiprocessing\n",
    "\n",
    "\n",
    "print ('CPU: {}'.format(multiprocessing.cpu_count()))\n",
    "print ('CPU: {}'.format(psutil.cpu_count()))\n",
    "\n",
    "! which python\n",
    "! python --version\n",
    "#!pip install watermark\n",
    "%load_ext watermark\n",
    "%watermark -d -v -m -p pandas,scipy,matplotlib,tensorflow"
   ]
  },
  {
   "cell_type": "markdown",
   "metadata": {
    "deletable": true,
    "editable": true
   },
   "source": [
    "# Locally defined methods"
   ]
  },
  {
   "cell_type": "code",
   "execution_count": 3,
   "metadata": {
    "collapsed": true,
    "deletable": true,
    "editable": true
   },
   "outputs": [],
   "source": [
    "import pickle\n",
    "from hashlib import md5\n",
    "\n",
    "# Cache stan models so that they are not recompiled\n",
    "def cacheStan(model_code, model_name=None, **kwargs):\n",
    "    \"\"\"Use just as you would `stan`\"\"\"\n",
    "    code_hash = md5(model_code.encode('ascii')).hexdigest()\n",
    "    if model_name is None:\n",
    "        cache_fn = 'cached-model-{}.pkl'.format(code_hash)\n",
    "    else:\n",
    "        cache_fn = 'cached-{}-{}.pkl'.format(model_name, code_hash)\n",
    "    try:\n",
    "        sm = pickle.load(open(cache_fn, 'rb'))\n",
    "    except:\n",
    "        sm = pystan.StanModel(model_code=model_code)\n",
    "        with open(cache_fn, 'wb') as f:\n",
    "            pickle.dump(sm, f)\n",
    "    else:\n",
    "        print(\"Using cached StanModel\")\n",
    "    return sm.sampling(**kwargs) \n",
    "\n",
    "def getStanCode(file_name):\n",
    "    f = open(file_name)\n",
    "    code = f.read()\n",
    "    f.close()\n",
    "    return code"
   ]
  },
  {
   "cell_type": "markdown",
   "metadata": {
    "deletable": true,
    "editable": true
   },
   "source": [
    "# Prepare and Preprocess Data\n",
    "\n",
    "As input, PyStan will need to be supplied with:\n",
    "\n",
    "* The response variable (y)\n",
    "* The predictor variable (x)\n",
    "* The total number of observed items (n)"
   ]
  },
  {
   "cell_type": "code",
   "execution_count": 4,
   "metadata": {
    "collapsed": false,
    "deletable": true,
    "editable": true
   },
   "outputs": [
    {
     "data": {
      "text/html": [
       "<div>\n",
       "<table border=\"1\" class=\"dataframe\">\n",
       "  <thead>\n",
       "    <tr style=\"text-align: right;\">\n",
       "      <th></th>\n",
       "      <th>x</th>\n",
       "    </tr>\n",
       "  </thead>\n",
       "  <tbody>\n",
       "    <tr>\n",
       "      <th>0</th>\n",
       "      <td>75</td>\n",
       "    </tr>\n",
       "    <tr>\n",
       "      <th>1</th>\n",
       "      <td>82</td>\n",
       "    </tr>\n",
       "    <tr>\n",
       "      <th>2</th>\n",
       "      <td>77</td>\n",
       "    </tr>\n",
       "    <tr>\n",
       "      <th>3</th>\n",
       "      <td>86</td>\n",
       "    </tr>\n",
       "    <tr>\n",
       "      <th>4</th>\n",
       "      <td>98</td>\n",
       "    </tr>\n",
       "  </tbody>\n",
       "</table>\n",
       "</div>"
      ],
      "text/plain": [
       "    x\n",
       "0  75\n",
       "1  82\n",
       "2  77\n",
       "3  86\n",
       "4  98"
      ]
     },
     "execution_count": 4,
     "metadata": {},
     "output_type": "execute_result"
    }
   ],
   "source": [
    "# Make a data frame\n",
    "df_kar = pd.DataFrame(np.array([\n",
    "           75, 82, 77, 86, 98, 91, 85, 84, 82, 79,\n",
    "           88, 79, 84, 87, 69, 93, 84, 82, 89, 78,\n",
    "           90, 74, 75, 84, 89, 81, 74, 79, 82, 84]),\n",
    "           columns=['x'])\n",
    "df_kar.head()"
   ]
  },
  {
   "cell_type": "markdown",
   "metadata": {
    "deletable": true,
    "editable": true
   },
   "source": [
    "## Plot the distribution\n",
    "Use distplot() to fit a parametric distribution to our dataset and visually evaluate how closely it corresponds to the observed data."
   ]
  },
  {
   "cell_type": "code",
   "execution_count": 5,
   "metadata": {
    "collapsed": false,
    "deletable": true,
    "editable": true
   },
   "outputs": [
    {
     "name": "stderr",
     "output_type": "stream",
     "text": [
      "/usr/local/lib/python2.7/dist-packages/matplotlib/font_manager.py:1297: UserWarning: findfont: Font family [u'sans-serif'] not found. Falling back to DejaVu Sans\n",
      "  (prop.get_family(), self.defaultFamily[fontext]))\n"
     ]
    },
    {
     "data": {
      "image/png": "[encoded data removed]",
      "text/plain": [
       "<matplotlib.figure.Figure at 0x7fcb4152b090>"
      ]
     },
     "metadata": {},
     "output_type": "display_data"
    }
   ],
   "source": [
    "# df_kar.plot()\n",
    "from scipy import stats, integrate\n",
    "# sns.distplot(df_kar['x']);\n",
    "sns.distplot(df_kar['x'], kde=False, fit=stats.norm);"
   ]
  },
  {
   "cell_type": "markdown",
   "metadata": {
    "deletable": true,
    "editable": true
   },
   "source": [
    "# Design an ML Model"
   ]
  },
  {
   "cell_type": "markdown",
   "metadata": {
    "deletable": true,
    "editable": true
   },
   "source": [
    "## Analytically (not the real model, fix teh latex)"
   ]
  },
  {
   "cell_type": "markdown",
   "metadata": {
    "deletable": true,
    "editable": true
   },
   "source": [
    "\n",
    "$$\n",
    "y_i\\sim{}N(\\mu_i, \\sigma)\\\\\n",
    "\\mu_i = \\beta_0+\\beta_1 x_i\\\\\n",
    "\\beta_0\\sim{}N(0,1000)\\\\\n",
    "\\beta_1\\sim{}N(0,1000)\\\\\n",
    "\\sigma\\sim{}Cauchy(0,5)\\\\\n",
    "$$"
   ]
  },
  {
   "cell_type": "markdown",
   "metadata": {
    "deletable": true,
    "editable": true
   },
   "source": [
    "## Using PyStan"
   ]
  },
  {
   "cell_type": "markdown",
   "metadata": {
    "collapsed": true,
    "deletable": true,
    "editable": true
   },
   "source": [
    "### Structure of a stan model\n",
    "\n",
    "Note the following important characteristics of stan code:\n",
    "\n",
    "* A stan model file comprises a number of blocks (not all of which are compulsory).\n",
    "* The stan language is an intermediary between (PyStan and c++), stan requires all types (integers, vectors, matrices etc) to be declared prior to use and it uses c++ commenting (// and /* */)\n",
    "*  Code order is important, objects must be declared before they are used. When a type is declared in one block, it is available in subsequent blocks."
   ]
  },
  {
   "cell_type": "code",
   "execution_count": 6,
   "metadata": {
    "collapsed": true,
    "deletable": true,
    "editable": true
   },
   "outputs": [],
   "source": [
    "ML_MODEL_NORMAL= \"\"\"\n",
    "// declare the input data / parameters\n",
    "  data {\n",
    "    int<lower=0> N;       # number of data\n",
    "    real<lower=0> x[N];   # vector of input \n",
    "  }\n",
    "  \n",
    "// optional - for transforming/scaling input data  \n",
    "  transformed data {  \n",
    "  }\n",
    " \n",
    "  parameters {\n",
    "    real<lower=0> mu;     # mean\n",
    "    real<lower=0> stdev;  # standard deviation\n",
    "  }\n",
    "// specifying priors and likelihood as well as the predictor  \n",
    "  model {\n",
    "    x ~ normal(mu, stdev);  # normal distribution model, defined by variance rather than precision\n",
    "  }\n",
    "// optional - derivatives (posteriors) of the samples  \n",
    "  generated quantities {\n",
    "    real<lower=0> borderline;             # 90% percentile\n",
    "    real<lower=0, upper=1> qualifying;    # probability of qualifying karaoke contest\n",
    "    borderline = mu + 1.282 * stdev;\n",
    "    qualifying = 1 - normal_cdf(borderline, 87, 5);\n",
    "    //rss = dot_self(x-mu);\n",
    "    //totalss = dot_self(x-mean(x));\n",
    "    //R2 = 1 - rss/totalss;\n",
    "    \n",
    "    //real[N] log_lik;\n",
    "    //for (i in 1:N){\n",
    "      //log_lik[i] <- normal_log(x[i], mu[i], stdev);\n",
    "    //}\n",
    "  }       \n",
    "\"\"\""
   ]
  },
  {
   "cell_type": "markdown",
   "metadata": {
    "deletable": true,
    "editable": true
   },
   "source": [
    "# Define and Run the model"
   ]
  },
  {
   "cell_type": "markdown",
   "metadata": {
    "deletable": true,
    "editable": true
   },
   "source": [
    "## Define the MCMC chain parameters\n",
    "\n",
    "For the parameters of the No-U-Turn sampling chains, include the following:\n",
    "\n",
    "* The nodes (estimated parameters) to monitor (return samples for)\n",
    "* The number of MCMC chains (4)\n",
    "* The number of warmup steps (1000)\n",
    "* The thinning factor (1)\n",
    "* The number of MCMC iterations - determined by the number of samples to save, the rate of thinning and the number of chains\n"
   ]
  },
  {
   "cell_type": "code",
   "execution_count": 7,
   "metadata": {
    "collapsed": false,
    "deletable": true,
    "editable": true
   },
   "outputs": [
    {
     "data": {
      "text/plain": [
       "4750"
      ]
     },
     "execution_count": 7,
     "metadata": {},
     "output_type": "execute_result"
    }
   ],
   "source": [
    "nChains = 4\n",
    "burnInSteps = 1000\n",
    "thinSteps = 1\n",
    "numSavedSteps = 15000 #across all chains\n",
    "nIter = (int)(np.ceil(burnInSteps+(numSavedSteps * thinSteps)/nChains))\n",
    "nIter"
   ]
  },
  {
   "cell_type": "markdown",
   "metadata": {
    "deletable": true,
    "editable": true
   },
   "source": [
    "## Define an input dictionary for Stan\n",
    "\n",
    "* Create a dictionary containing all data to be passed to STAN"
   ]
  },
  {
   "cell_type": "code",
   "execution_count": 8,
   "metadata": {
    "collapsed": false,
    "deletable": true,
    "editable": true
   },
   "outputs": [
    {
     "data": {
      "text/plain": [
       "[('x',\n",
       "  array([75, 82, 77, 86, 98, 91, 85, 84, 82, 79, 88, 79, 84, 87, 69, 93, 84,\n",
       "         82, 89, 78, 90, 74, 75, 84, 89, 81, 74, 79, 82, 84])),\n",
       " ('N', 30)]"
      ]
     },
     "execution_count": 8,
     "metadata": {},
     "output_type": "execute_result"
    }
   ],
   "source": [
    "stan_datadict = {}\n",
    "stan_datadict['N'] = df_kar.shape[0]\n",
    "stan_datadict['x'] = df_kar['x'].values\n",
    "stan_datadict.items()"
   ]
  },
  {
   "cell_type": "markdown",
   "metadata": {
    "deletable": true,
    "editable": true
   },
   "source": [
    "## Compile model and sample"
   ]
  },
  {
   "cell_type": "code",
   "execution_count": 9,
   "metadata": {
    "collapsed": false,
    "deletable": true,
    "editable": true
   },
   "outputs": [
    {
     "name": "stderr",
     "output_type": "stream",
     "text": [
      "INFO:pystan:COMPILING THE C++ CODE FOR MODEL anon_model_802410be4c83000af862d9ee33c4a519 NOW.\n"
     ]
    }
   ],
   "source": [
    "import pystan\n",
    "import matplotlib.pyplot as plt\n",
    "import numpy as np\n",
    "from pystan import StanModel\n",
    "\n",
    "fit = pystan.stan(model_code=ML_MODEL_NORMAL, \n",
    "                  data=stan_datadict, \n",
    "                  iter=nIter, \n",
    "                  chains=nChains, \n",
    "                  n_jobs=1,\n",
    "                  warmup=burnInSteps,\n",
    "                  thin=1)\n",
    "# fit = cacheStan(model_code=ML_MODEL_NORMAL, data=OneVar_dat)"
   ]
  },
  {
   "cell_type": "markdown",
   "metadata": {
    "deletable": true,
    "editable": true
   },
   "source": [
    "## Visualize the fit"
   ]
  },
  {
   "cell_type": "code",
   "execution_count": 10,
   "metadata": {
    "collapsed": false,
    "deletable": true,
    "editable": true
   },
   "outputs": [
    {
     "data": {
      "image/png": "[encoded data removed]",
      "text/plain": [
       "<matplotlib.figure.Figure at 0x7fcb3a846490>"
      ]
     },
     "metadata": {},
     "output_type": "display_data"
    }
   ],
   "source": [
    "fit.plot(pars=['mu', 'stdev', 'borderline'])\n",
    "plt.show()\n",
    "# fit.plot()"
   ]
  },
  {
   "cell_type": "markdown",
   "metadata": {
    "deletable": true,
    "editable": true
   },
   "source": [
    "## View summary stats"
   ]
  },
  {
   "cell_type": "code",
   "execution_count": 11,
   "metadata": {
    "collapsed": false,
    "deletable": true,
    "editable": true
   },
   "outputs": [
    {
     "name": "stdout",
     "output_type": "stream",
     "text": [
      "Inference for Stan model: anon_model_802410be4c83000af862d9ee33c4a519.\n",
      "4 chains, each with iter=4750; warmup=1000; thin=1; \n",
      "post-warmup draws per chain=3750, total post-warmup draws=15000.\n",
      "\n",
      "             mean se_mean     sd   2.5%    25%    50%    75%  97.5%  n_eff   Rhat\n",
      "mu          82.79    0.01   1.21  80.39  81.99  82.79  83.59  85.17  11922    1.0\n",
      "stdev        6.65  9.0e-3   0.94    5.1   5.99   6.56    7.2   8.83  10964    1.0\n",
      "borderline  91.32    0.02   1.71  88.36  90.12  91.17  92.37  95.09  11798    1.0\n",
      "qualifying   0.21  7.9e-4   0.09   0.05   0.14    0.2   0.27   0.39  12577    1.0\n",
      "lp__       -64.75    0.01   1.06 -67.67 -65.15 -64.42  -64.0 -63.73 6334.0    1.0\n",
      "\n",
      "Samples were drawn using NUTS at Sat Mar  4 13:45:07 2017.\n",
      "For each parameter, n_eff is a crude measure of effective sample size,\n",
      "and Rhat is the potential scale reduction factor on split chains (at \n",
      "convergence, Rhat=1).\n"
     ]
    }
   ],
   "source": [
    "print(fit)"
   ]
  },
  {
   "cell_type": "markdown",
   "metadata": {
    "deletable": true,
    "editable": true
   },
   "source": [
    "# Print statistics"
   ]
  },
  {
   "cell_type": "code",
   "execution_count": 12,
   "metadata": {
    "collapsed": false,
    "deletable": true,
    "editable": true
   },
   "outputs": [
    {
     "data": {
      "image/png": "[encoded data removed]",
      "text/plain": [
       "<matplotlib.figure.Figure at 0x7fcb39815790>"
      ]
     },
     "metadata": {},
     "output_type": "display_data"
    },
    {
     "data": {
      "image/png": "[encoded data removed]",
      "text/plain": [
       "<matplotlib.figure.Figure at 0x7fcb39815ed0>"
      ]
     },
     "metadata": {},
     "output_type": "display_data"
    }
   ],
   "source": [
    "LResults = fit.extract(permuted=True)\n",
    "Lmu = LResults['mu']\n",
    "meanMu = np.mean(Lmu)\n",
    "plt.figure()\n",
    "plt.title(\"Posterior Distribution of mu     Mean = {0:.7}\".format(meanMu))\n",
    "plt.hist(Lmu, bins = 100)\n",
    "plt.show()\n",
    "    \n",
    "\n",
    "Lsigma = LResults['stdev']\n",
    "meanSigma = np.mean(Lsigma)\n",
    "plt.figure()   \n",
    "plt.title(\"Posterior Distribution of sigma     Mean = {0:.7}\".format(meanSigma))\n",
    "plt.hist(Lsigma, bins = 100)\n",
    "plt.show()"
   ]
  },
  {
   "cell_type": "markdown",
   "metadata": {
    "deletable": true,
    "editable": true
   },
   "source": [
    "# Classical Linear Regression\n",
    "\n",
    "$$ y_i = \\beta_0 + \\Sigma \\beta_x * x_i + \\epsilon \\\\\n",
    "\\epsilon \\sim  N(\\mu, \\sigma^2) $$"
   ]
  },
  {
   "cell_type": "markdown",
   "metadata": {
    "deletable": true,
    "editable": true
   },
   "source": [
    "# Bayesian Linear Regression\n",
    "\n",
    "$$ y_i \\sim N(\\mu, \\sigma^2) \\\\\n",
    "\\mu = \\beta_0 + \\Sigma \\beta_x * x_i \\\\\n",
    "\\beta_x \\sim priors $$"
   ]
  },
  {
   "cell_type": "markdown",
   "metadata": {
    "deletable": true,
    "editable": true
   },
   "source": [
    "# Bayesian Logistic Regression\n",
    "## logit\n",
    "$$ \\begin{array}{rcl}\n",
    "\t\t\t  y &\\sim& \\operatorname{Bern}(\\pi)\\\\\n",
    "\t\t\t  log\\left(\\frac{\\pi}{1-\\pi}\\right)&=&\\beta_0+\\beta_1x_1\\\\\n",
    "\t\t\t  \\beta_0, \\beta_1&\\sim&\\mathcal{N}(0, 10000)\\\\\n",
    "\t\t\t  \\end{array} $$\n",
    "## ?              \n",
    "$$\n",
    "p(Y_i \\mid X_i,\\beta) \\sim \\text{Binomial}(n_i,p_i) \\\\ \\text{where } p_i = \\text{logit}^{-1}(\\beta^TX)\n",
    "$$\n",
    "see http://rstudio-pubs-static.s3.amazonaws.com/15619_15a956c6bda84c3f97ef32793895689a.html#/16 for why classical LR may be bad. \n",
    "\n",
    "## probit\n",
    "\n",
    "$$ \\begin{array}{rcl}\n",
    "\t\t\t  y &\\sim& \\operatorname{Bern}(\\pi)\\\\\n",
    "\t\t\t  \\phi^{-1}\\left(\\pi\\right)&=&\\beta_0+\\beta_1x_1\\\\\n",
    "\t\t\t  \\beta_0, \\beta_1&\\sim&\\mathcal{N}(0, 10000)\\\\\n",
    "\t\t\t  \\end{array}$$ "
   ]
  },
  {
   "cell_type": "markdown",
   "metadata": {
    "deletable": true,
    "editable": true
   },
   "source": [
    "### LD50\n",
    "We might also be interested in the LD50 - the value of x where the probability switches from favoring 1 to favoring 0. LD50 is calculated as:\n",
    "$$\n",
    "LD50 = - \\frac{intercept}{slope}\n",
    "$$"
   ]
  },
  {
   "cell_type": "code",
   "execution_count": 106,
   "metadata": {
    "collapsed": false,
    "deletable": true,
    "editable": true
   },
   "outputs": [],
   "source": [
    "# Stan models\n",
    "\n",
    "ML_MODEL_LOGREG= \"\"\"\n",
    "data {\n",
    "     int<lower=1> K;\n",
    "     int<lower=0> N;\n",
    "     int<lower=0,upper=1> y[N];\n",
    "     matrix[N,K] x;\n",
    "   }\n",
    "   parameters {\n",
    "     vector[K] beta;\n",
    "   }\n",
    "   model {\n",
    "     beta ~ normal(0,1); // prior\n",
    "     y ~ bernoulli_logit(x * beta); //likelihood\n",
    "   } \n",
    "\"\"\"   \n",
    "\n",
    "# logistic = invlogit \n",
    "ML_MODEL_LOGREG= \"\"\" \n",
    "data {\n",
    "\tint<lower=0> N;\n",
    "\treal x[N];\n",
    "\tint<lower=0,upper=1> y[N];\n",
    "}\n",
    "parameters {\n",
    "\treal alpha;\n",
    "\treal beta;\n",
    "}\n",
    "model {\n",
    "\tfor (n in 1:N)\n",
    "\t\ty[n] ~ bernoulli(inv_logit(alpha + beta * x[n]));\n",
    "}\n",
    "\"\"\"\n",
    "\n",
    "logitReg = \"\"\"\n",
    "data {\n",
    "  int<lower=0> N; \n",
    "  real x1[N]; \n",
    "  real x2[N]; \n",
    "  int<lower=0,upper=1> y[N];\n",
    "}\n",
    "\n",
    "parameters {\n",
    "  real alpha; \n",
    "  real beta1; \n",
    "  real beta2;\n",
    "}\n",
    "\n",
    "model {\n",
    "  alpha ~ normal(0,10.); \n",
    "  beta1 ~ normal(0,10.); \n",
    "  beta2 ~ normal(0,10.);\n",
    "  for (n in 1:N)\n",
    "    y[n] ~ bernoulli(inv_logit(alpha + beta1 * x1[n]+beta2 * x2[n]));\n",
    "}'\n",
    "\"\"\"\n",
    "\n",
    "logitReg = \"\"\"\n",
    "data {\n",
    "        int<lower=0> N;\n",
    "        int<lower=0> M;\n",
    "        matrix[N, M] X;\n",
    "        int<lower=0, upper=1> y[N];\n",
    "    }\n",
    "    parameters {\n",
    "        real beta0;\n",
    "        vector[M] beta;\n",
    "    }\n",
    "    model {\n",
    "        for (i in 1:N)            \n",
    "            y[i] ~ bernoulli(inv_logit (beta0 + dot_product(X[i] , beta)));\n",
    "    }\n",
    "\"\"\"    \n",
    "    "
   ]
  },
  {
   "cell_type": "markdown",
   "metadata": {
    "deletable": true,
    "editable": true
   },
   "source": [
    "Refs:\n",
    "\n",
    "https://matthewdharris.com/2016/10/18/estimating-a-beta-distribution-with-stan-hmc/\n",
    "\n",
    "https://github.com/jonsedar/pymc3_vs_pystan/blob/master/01_BasicInstallTests.ipynb\n",
    "\n",
    "http://brabrajp.blogspot.co.il/2016/05/pystan.html\n",
    "\n",
    "http://www.flutterbys.com.au/stats/tut/tut7.2b.html\n",
    "\n",
    "http://tjo.hatenablog.com/entry/2014/03/25/194605\n"
   ]
  }
 ],
 "metadata": {
  "kernelspec": {
   "display_name": "Python 2",
   "language": "python",
   "name": "python2"
  },
  "language_info": {
   "codemirror_mode": {
    "name": "ipython",
    "version": 2
   },
   "file_extension": ".py",
   "mimetype": "text/x-python",
   "name": "python",
   "nbconvert_exporter": "python",
   "pygments_lexer": "ipython2",
   "version": "2.7.6"
  }
 },
 "nbformat": 4,
 "nbformat_minor": 2
}
