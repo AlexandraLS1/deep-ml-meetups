{
 "cells": [
  {
   "cell_type": "markdown",
   "metadata": {
    "collapsed": true
   },
   "source": [
    "# Bata-Binomial model using SymPy"
   ]
  },
  {
   "cell_type": "code",
   "execution_count": 28,
   "metadata": {
    "collapsed": false
   },
   "outputs": [],
   "source": [
    "%reset -f\n",
    "import numpy as np\n",
    "import scipy.stats as st\n",
    "import sklearn.linear_model as lm\n",
    "import matplotlib.pyplot as plt\n",
    "import sympy as sp\n",
    "#from sympy import binomial\n",
    "#from sympy import Symbol, Rational, factorial, binomial, expand_func\n",
    "sp.interactive.printing.init_printing(use_latex=True)\n",
    "from IPython.display import display, Math, Latex\n",
    "maths = lambda s: display(Math(s))\n",
    "latex = lambda s: display(Latex(s))"
   ]
  },
  {
   "cell_type": "markdown",
   "metadata": {},
   "source": [
    "# Likelihood\n",
    "The starting point for our inference problem is the likelihood – the probability of the observed data series.\n",
    "Define the Binomial distribution (symbolically using sympy), which gives our likelihood (as a function of $\\mu$)"
   ]
  },
  {
   "cell_type": "code",
   "execution_count": 29,
   "metadata": {
    "collapsed": false
   },
   "outputs": [
    {
     "data": {
      "text/latex": [
       "$$\\operatorname{Bin}(r|n,\\theta) = $$"
      ],
      "text/plain": [
       "<IPython.core.display.Math object>"
      ]
     },
     "metadata": {},
     "output_type": "display_data"
    },
    {
     "data": {
      "image/png": "[encoded data removed]",
      "text/latex": [
       "$$\\frac{\\theta^{r} \\left(- \\theta + 1\\right)^{n - r} n!}{r! \\left(n - r\\right)!}$$"
      ],
      "text/plain": [
       " r         n - r   \n",
       "θ ⋅(-θ + 1)     ⋅n!\n",
       "───────────────────\n",
       "    r!⋅(n - r)!    "
      ]
     },
     "metadata": {},
     "output_type": "display_data"
    }
   ],
   "source": [
    "#----------------------Symbolic binomial-------------------------------#\n",
    "n = sp.Symbol('n', integer=True, positive=True)\n",
    "r = sp.Symbol('r', integer=True, positive=True)\n",
    "theta = sp.Symbol('theta')\n",
    "\n",
    "# Create the function symbolically\n",
    "from sympy import factorial\n",
    "cNkSym=  (factorial(n))/ (factorial(r) *factorial(n-r))\n",
    "cNkSym.evalf() # this works\n",
    "\n",
    "binomSym= cNkSym*((theta **r)*(1-theta)**(n-r))\n",
    "binomSym.evalf()\n",
    "#Convert it to a Numpy-callable function\n",
    "binomLambda = sp.Lambda((theta,r,n), binomSym) \n",
    "#----------------------Symbolic binomial-------------------------------#\n",
    "maths(r\"\\operatorname{Bin}(r|n,\\theta) = \")\n",
    "display (binomLambda.expr)"
   ]
  },
  {
   "cell_type": "code",
   "execution_count": 14,
   "metadata": {
    "collapsed": false
   },
   "outputs": [
    {
     "data": {
      "image/png": "[encoded data removed]",
      "text/latex": [
       "$$0.0795892373871788$$"
      ],
      "text/plain": [
       "0.0795892373871788"
      ]
     },
     "execution_count": 14,
     "metadata": {},
     "output_type": "execute_result"
    }
   ],
   "source": [
    "binomLambda(0.5,50,100)"
   ]
  },
  {
   "cell_type": "code",
   "execution_count": 15,
   "metadata": {
    "collapsed": false
   },
   "outputs": [
    {
     "data": {
      "image/png": "[encoded data removed]",
      "text/latex": [
       "$$0.24609375$$"
      ],
      "text/plain": [
       "0.246093750000000"
      ]
     },
     "execution_count": 15,
     "metadata": {},
     "output_type": "execute_result"
    }
   ],
   "source": [
    "binomSym.subs({theta:0.5,r:5,n:10})"
   ]
  },
  {
   "cell_type": "markdown",
   "metadata": {},
   "source": [
    "# Prior – The Beta Distribution\n",
    "\n",
    "Define the Beta distribution (symbolically using sympy) which will act as our prior distribution"
   ]
  },
  {
   "cell_type": "code",
   "execution_count": 17,
   "metadata": {
    "collapsed": false
   },
   "outputs": [
    {
     "data": {
      "text/latex": [
       "$$\\operatorname{Beta}(\\theta|a,b) = $$"
      ],
      "text/plain": [
       "<IPython.core.display.Math object>"
      ]
     },
     "metadata": {},
     "output_type": "display_data"
    },
    {
     "data": {
      "image/png": "[encoded data removed]",
      "text/latex": [
       "$$\\frac{\\theta^{a - 1} \\Gamma{\\left(a + b \\right)}}{\\Gamma{\\left(a \\right)} \\Gamma{\\left(b \\right)}} \\left(- \\theta + 1\\right)^{b - 1}$$"
      ],
      "text/plain": [
       " a - 1         b - 1         \n",
       "θ     ⋅(-θ + 1)     ⋅Γ(a + b)\n",
       "─────────────────────────────\n",
       "          Γ(a)⋅Γ(b)          "
      ]
     },
     "metadata": {},
     "output_type": "display_data"
    }
   ],
   "source": [
    "#----------------------Symbolic beta-------------------------------#\n",
    "a = sp.Symbol('a', integer=False, positive=True)\n",
    "b = sp.Symbol('b', integer=False, positive=True)\n",
    "#mu = sp.Symbol('mu', integer=False, positive=True)\n",
    "\n",
    "# Create the function symbolically\n",
    "G = sp.gamma\n",
    "# The normalisation factor\n",
    "BetaNormSym = G(a + b)/(G(a)*G(b))\n",
    "# The functional form\n",
    "BetaFSym = theta**(a-1) * (1-theta)**(b-1)\n",
    "\n",
    "BetaSym=BetaNormSym * BetaFSym\n",
    "BetaSym.evalf() # this works\n",
    "# Turn Beta into a function\n",
    "BetaLambda = sp.Lambda((theta,a,b), BetaNormSym * BetaFSym)\n",
    "maths(r\"\\operatorname{Beta}(\\theta|a,b) = \")\n",
    "display(BetaSym)\n",
    "#----------------------Symbolic beta-------------------------------#"
   ]
  },
  {
   "cell_type": "code",
   "execution_count": 23,
   "metadata": {
    "collapsed": false
   },
   "outputs": [
    {
     "data": {
      "image/png": "[encoded data removed]",
      "text/latex": [
       "$$1.6$$"
      ],
      "text/plain": [
       "1.60000000000000"
      ]
     },
     "execution_count": 23,
     "metadata": {},
     "output_type": "execute_result"
    }
   ],
   "source": [
    "BetaLambda(0.2,1,2)"
   ]
  },
  {
   "cell_type": "code",
   "execution_count": 19,
   "metadata": {
    "collapsed": false
   },
   "outputs": [
    {
     "data": {
      "image/png": "[encoded data removed]",
      "text/latex": [
       "$$0.4375$$"
      ],
      "text/plain": [
       "0.437500000000000"
      ]
     },
     "execution_count": 19,
     "metadata": {},
     "output_type": "execute_result"
    }
   ],
   "source": [
    "BetaSym.subs({theta:0.5,a:2,b:7})"
   ]
  },
  {
   "cell_type": "markdown",
   "metadata": {},
   "source": [
    "Plot the Beta distribution"
   ]
  },
  {
   "cell_type": "code",
   "execution_count": 24,
   "metadata": {
    "collapsed": false
   },
   "outputs": [
    {
     "name": "stdout",
     "output_type": "stream",
     "text": [
      "Populating the interactive namespace from numpy and matplotlib\n"
     ]
    },
    {
     "data": {
      "text/plain": [
       "<matplotlib.text.Text at 0x10a22a610>"
      ]
     },
     "execution_count": 24,
     "metadata": {},
     "output_type": "execute_result"
    },
    {
     "data": {
      "image/png": "[encoded data removed]",
      "text/plain": [
       "<matplotlib.figure.Figure at 0x10a1c9ad0>"
      ]
     },
     "metadata": {},
     "output_type": "display_data"
    }
   ],
   "source": [
    "%pylab inline\n",
    "mus = arange(0,1,.01)\n",
    "\n",
    "# Plot for various values of a and b\n",
    "for ab in [(.1,.1),(.5,.5),(2,20),(2,3), (1,1)]:\n",
    "    plot(mus, vectorize(BetaLambda)(mus,*ab), label=\"a=%s b=%s\" % ab)\n",
    "\n",
    "legend(loc=0)\n",
    "xlabel(r\"$\\theta$\", size=22)"
   ]
  },
  {
   "cell_type": "markdown",
   "metadata": {},
   "source": [
    "# Posterior\n",
    "We can find the posterior distribution by multiplying our Beta prior by the Binomial likelihood"
   ]
  },
  {
   "cell_type": "code",
   "execution_count": 25,
   "metadata": {
    "collapsed": false
   },
   "outputs": [
    {
     "data": {
      "image/png": "[encoded data removed]",
      "text/latex": [
       "$$\\frac{\\theta^{a + r - 1} \\left(- \\theta + 1\\right)^{b + n - r - 1} n!}{r! \\left(n - r\\right)! \\Gamma{\\left(a \\right)} \\Gamma{\\left(b \\right)}} \\Gamma{\\left(a + b \\right)}$$"
      ],
      "text/plain": [
       " a + r - 1         b + n - r - 1            \n",
       "θ         ⋅(-θ + 1)             ⋅n!⋅Γ(a + b)\n",
       "────────────────────────────────────────────\n",
       "           r!⋅(n - r)!⋅Γ(a)⋅Γ(b)            "
      ]
     },
     "metadata": {},
     "output_type": "display_data"
    },
    {
     "data": {
      "text/latex": [
       "$$\\operatorname{Beta}(\\theta|a,b) \\times \\operatorname{Bin}(r|n,\\theta) \\propto \\frac{\\theta^{a + r - 1} \\left(- \\theta + 1\\right)^{b + n - r - 1} n!}{r! \\left(n - r\\right)! \\Gamma{\\left(a \\right)} \\Gamma{\\left(b \\right)}} \\Gamma{\\left(a + b \\right)}$$"
      ],
      "text/plain": [
       "<IPython.core.display.Math object>"
      ]
     },
     "metadata": {},
     "output_type": "display_data"
    },
    {
     "data": {
      "image/png": "[encoded data removed]",
      "text/latex": [
       "$$0.05126953125$$"
      ],
      "text/plain": [
       "0.0512695312500000"
      ]
     },
     "execution_count": 25,
     "metadata": {},
     "output_type": "execute_result"
    }
   ],
   "source": [
    "#----------------------Symbolic beta-bin-------------------------------#\n",
    "a = sp.Symbol('a', integer=False, positive=True)\n",
    "b = sp.Symbol('b', integer=False, positive=True)\n",
    "BetaBinSym=BetaSym * binomSym\n",
    "# Turn Beta-bin into a function\n",
    "BetaBinLambda = sp.Lambda((theta,a,b,n,r), BetaBinSym)\n",
    "\n",
    "BetaBinSym=BetaBinSym.powsimp()\n",
    "display(BetaBinSym)\n",
    "maths(r\"\\operatorname{Beta}(\\theta|a,b) \\times \\operatorname{Bin}(r|n,\\theta) \\propto %s\" % sp.latex(BetaBinSym))\n",
    "#----------------------Symbolic beta-bin-------------------------------#\n",
    "\n",
    "BetaBinSym.subs({theta:0.5,a:2,b:7,n:10,r:3})"
   ]
  },
  {
   "cell_type": "code",
   "execution_count": 26,
   "metadata": {
    "collapsed": false
   },
   "outputs": [
    {
     "data": {
      "image/png": "[encoded data removed]",
      "text/latex": [
       "$$0.05126953125$$"
      ],
      "text/plain": [
       "0.0512695312500000"
      ]
     },
     "execution_count": 26,
     "metadata": {},
     "output_type": "execute_result"
    }
   ],
   "source": [
    "BetaBinLambda (0.5,2,7, 10,3)"
   ]
  },
  {
   "cell_type": "markdown",
   "metadata": {},
   "source": [
    "So the posterior distribution has the same functional dependence on $\\theta$ as the prior, it is just another Beta distribution"
   ]
  },
  {
   "cell_type": "code",
   "execution_count": 27,
   "metadata": {
    "collapsed": false
   },
   "outputs": [
    {
     "data": {
      "text/latex": [
       "$$\\mathbf{Prior}:\\operatorname{Beta}(\theta|a=2,b=7) = 56 \\theta \\left(- \\theta + 1\\right)^{6}$$"
      ],
      "text/plain": [
       "<IPython.core.display.Math object>"
      ]
     },
     "metadata": {},
     "output_type": "display_data"
    },
    {
     "data": {
      "text/latex": [
       "$$\\mathbf{Likelihood}: \\operatorname{Bin}(r=3|n=6,\theta) = 19600 \\theta^{3} \\left(- \\theta + 1\\right)^{47}$$"
      ],
      "text/plain": [
       "<IPython.core.display.Math object>"
      ]
     },
     "metadata": {},
     "output_type": "display_data"
    },
    {
     "data": {
      "text/latex": [
       "$$\\mathbf{Posterior (normalised)}:\\operatorname{Beta}(\\theta|2,7) \\times \\operatorname{Bin}(3|50,\\theta)=1097600 \\theta^{4} \\left(- \\theta + 1\\right)^{53}$$"
      ],
      "text/plain": [
       "<IPython.core.display.Math object>"
      ]
     },
     "metadata": {},
     "output_type": "display_data"
    },
    {
     "data": {
      "text/plain": [
       "<matplotlib.text.Text at 0x10a4d0890>"
      ]
     },
     "execution_count": 27,
     "metadata": {},
     "output_type": "execute_result"
    },
    {
     "data": {
      "image/png": "[encoded data removed]",
      "text/plain": [
       "<matplotlib.figure.Figure at 0x10a1bac50>"
      ]
     },
     "metadata": {},
     "output_type": "display_data"
    }
   ],
   "source": [
    "prior = BetaLambda(theta,2,7)\n",
    "maths(\"\\mathbf{Prior}:\\operatorname{Beta}(\\theta|a=2,b=7) = %s\" % sp.latex(prior))\n",
    "likelihood = binomLambda(theta,3,50) # = binomLambda(0.5,3,10)\n",
    "maths(\"\\mathbf{Likelihood}: \\operatorname{Bin}(r=3|n=6,\\theta) = %s\" % sp.latex(likelihood))\n",
    "posterior = prior * likelihood\n",
    "posterior=posterior.powsimp()\n",
    "maths(r\"\\mathbf{Posterior (normalised)}:\\operatorname{Beta}(\\theta|2,7) \\times \\operatorname{Bin}(3|50,\\theta)=%s\" \n",
    "      % sp.latex(posterior))\n",
    "\n",
    "posterior.subs({theta:0.5})\n",
    "plt.plot(mus, (sp.lambdify(theta,posterior))(mus), 'r')\n",
    "xlabel(\"$\\\\theta$\", size=22)"
   ]
  },
  {
   "cell_type": "code",
   "execution_count": 36,
   "metadata": {
    "collapsed": false
   },
   "outputs": [
    {
     "data": {
      "text/plain": [
       "array([0, 1, 0, 0, 0, 0, 0, 0, 0, 1])"
      ]
     },
     "execution_count": 36,
     "metadata": {},
     "output_type": "execute_result"
    }
   ],
   "source": [
    "np.random.seed(124)\n",
    "\n",
    "nobs = 10\n",
    "theta = 0.3\n",
    "Y = np.random.binomial(1, theta, nobs)\n",
    "Y"
   ]
  },
  {
   "cell_type": "code",
   "execution_count": null,
   "metadata": {
    "collapsed": true
   },
   "outputs": [],
   "source": []
  },
  {
   "cell_type": "code",
   "execution_count": null,
   "metadata": {
    "collapsed": true
   },
   "outputs": [],
   "source": []
  }
 ],
 "metadata": {
  "anaconda-cloud": {},
  "kernelspec": {
   "display_name": "Python [Root]",
   "language": "python",
   "name": "Python [Root]"
  },
  "language_info": {
   "codemirror_mode": {
    "name": "ipython",
    "version": 2
   },
   "file_extension": ".py",
   "mimetype": "text/x-python",
   "name": "python",
   "nbconvert_exporter": "python",
   "pygments_lexer": "ipython2",
   "version": "2.7.12"
  }
 },
 "nbformat": 4,
 "nbformat_minor": 0
}
